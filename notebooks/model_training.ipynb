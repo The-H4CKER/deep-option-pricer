{
  "nbformat": 4,
  "nbformat_minor": 0,
  "metadata": {
    "colab": {
      "provenance": [],
      "toc_visible": true,
      "authorship_tag": "ABX9TyNgxk6yu9gljJGmnGpei3ci",
      "include_colab_link": true
    },
    "kernelspec": {
      "name": "python3",
      "display_name": "Python 3"
    },
    "language_info": {
      "name": "python"
    }
  },
  "cells": [
    {
      "cell_type": "markdown",
      "metadata": {
        "id": "view-in-github",
        "colab_type": "text"
      },
      "source": [
        "<a href=\"https://colab.research.google.com/github/The-H4CKER/deep-option-pricer/blob/main/notebooks/model_training.ipynb\" target=\"_parent\"><img src=\"https://colab.research.google.com/assets/colab-badge.svg\" alt=\"Open In Colab\"/></a>"
      ]
    },
    {
      "cell_type": "markdown",
      "source": [
        "# Model Training"
      ],
      "metadata": {
        "id": "V3aBDaEic2A7"
      }
    },
    {
      "cell_type": "markdown",
      "source": [
        "## Setup"
      ],
      "metadata": {
        "id": "up_SL0Fbc-WK"
      }
    },
    {
      "cell_type": "code",
      "source": [
        "import torch\n",
        "import torch.nn as nn\n",
        "import pandas as pd\n",
        "from sqlalchemy import create_engine\n",
        "from sklearn.model_selection import train_test_split\n",
        "from sklearn.preprocessing import StandardScaler\n",
        "import matplotlib.pyplot as plt"
      ],
      "metadata": {
        "id": "UDTWVrGzW2AD"
      },
      "execution_count": 1,
      "outputs": []
    },
    {
      "cell_type": "code",
      "source": [
        "DB_PATH = \"sqlite:///data/options_data.db\"\n",
        "engine = create_engine(DB_PATH)\n",
        "\n",
        "try:\n",
        "  df = pd.read_sql_table(\"options\", engine)\n",
        "  print(\"Database loaded successfully!\")\n",
        "  print(f\"Loaded {len(df)} records.\")\n",
        "except Exception as e:\n",
        "  print(f\"Error loading database: {e}\")"
      ],
      "metadata": {
        "colab": {
          "base_uri": "https://localhost:8080/"
        },
        "id": "gWhvqBveW_HL",
        "outputId": "c85fee5c-c20f-4da4-a92a-dbd18bae4df6"
      },
      "execution_count": 2,
      "outputs": [
        {
          "output_type": "stream",
          "name": "stdout",
          "text": [
            "Database loaded successfully!\n",
            "Loaded 2097 records.\n"
          ]
        }
      ]
    },
    {
      "cell_type": "markdown",
      "source": [
        "## Data Preparation"
      ],
      "metadata": {
        "id": "byu3lOXYcuW6"
      }
    },
    {
      "cell_type": "code",
      "source": [
        "df['r'] = 0.05  # define risk-free rate\n",
        "\n",
        "# TESTING NEW FEATURE\n",
        "df['moneyness'] = df['stock_price'] / df['strike_price']\n",
        "\n",
        "# One-hot encode the 'option_type' column ('call' -> 1, 'put' -> 0)\n",
        "# Replaces 'option_type' col with 'option_type_put' which is either 0.0 or 1.0\n",
        "df = pd.get_dummies(df, columns=['option_type'], drop_first=True, dtype=float)\n",
        "\n",
        "features = ['stock_price', 'strike_price', 'dte', 'r', 'implied_volatility', 'option_type_put', 'moneyness']\n",
        "target = 'market_price'\n",
        "\n",
        "# Explicitly define model's inputs (X) and output (y)\n",
        "X = df[features].values\n",
        "y = df[target].values.reshape(-1, 1)  # vector forma\n",
        "\n",
        "# print(f\"X shape: {X.shape}\")\n",
        "# print(f\"y shape: {y.shape}\")\n",
        "\n",
        "# Perform standard 80-20 split on data\n",
        "X_train, X_test, y_train, y_test = train_test_split(X, y, test_size=0.2, random_state=42)\n",
        "\n",
        "# print(f\"X_train shape: {X_train.shape}\")\n",
        "# print(f\"X_test shape: {X_test.shape}\")\n",
        "\n",
        "# Scale input features to similar scale (mean=0, std=1)\n",
        "scaler = StandardScaler()\n",
        "\n",
        "# scaler should only fit to training data to avoid data leak\n",
        "X_train_scaled = scaler.fit_transform(X_train)\n",
        "X_test_scaled = scaler.transform(X_test)\n",
        "\n",
        "# Convert NumPy arrays into PyTorch tensors.\n",
        "X_train_tensor = torch.tensor(X_train_scaled, dtype=torch.float32)\n",
        "y_train_tensor = torch.tensor(y_train, dtype=torch.float32)\n",
        "X_test_tensor = torch.tensor(X_test_scaled, dtype=torch.float32)\n",
        "y_test_tensor = torch.tensor(y_test, dtype=torch.float32)\n"
      ],
      "metadata": {
        "id": "ZQ_enGrRb2RW"
      },
      "execution_count": 3,
      "outputs": []
    },
    {
      "cell_type": "markdown",
      "source": [
        "## Build Neural Network"
      ],
      "metadata": {
        "id": "yHrFhsk8sQUI"
      }
    },
    {
      "cell_type": "code",
      "source": [
        "class OptionPricer(nn.Module):\n",
        "  def __init__(self, input_size):\n",
        "    super(OptionPricer, self).__init__()\n",
        "    # construct a neural network with 3 hidden layers\n",
        "    self.layer1 = nn.Linear(input_size, 128)\n",
        "    self.layer2 = nn.Linear(128, 64)\n",
        "    self.layer3 = nn.Linear(64, 32)\n",
        "    self.output_layer = nn.Linear(32, 1)\n",
        "\n",
        "    self.relu = nn.ReLU()\n",
        "\n",
        "  def forward(self, x):\n",
        "    '''Define forward propogation'''\n",
        "    x = self.relu(self.layer1(x))\n",
        "    x = self.relu(self.layer2(x))\n",
        "    x = self.relu(self.layer3(x))\n",
        "    x = self.output_layer(x)\n",
        "    return x\n",
        "\n",
        "input_size = X_train_tensor.shape[1]\n",
        "model = OptionPricer(input_size)\n",
        "\n",
        "criterion = nn.MSELoss()\n",
        "optimizer = torch.optim.Adam(model.parameters(), lr=0.001)\n",
        "\n",
        "model"
      ],
      "metadata": {
        "colab": {
          "base_uri": "https://localhost:8080/"
        },
        "id": "k6v9gOK3rGIj",
        "outputId": "adf8f12f-c1c3-480c-c0c5-4785d880fab7"
      },
      "execution_count": 4,
      "outputs": [
        {
          "output_type": "execute_result",
          "data": {
            "text/plain": [
              "OptionPricer(\n",
              "  (layer1): Linear(in_features=7, out_features=128, bias=True)\n",
              "  (layer2): Linear(in_features=128, out_features=64, bias=True)\n",
              "  (layer3): Linear(in_features=64, out_features=32, bias=True)\n",
              "  (output_layer): Linear(in_features=32, out_features=1, bias=True)\n",
              "  (relu): ReLU()\n",
              ")"
            ]
          },
          "metadata": {},
          "execution_count": 4
        }
      ]
    },
    {
      "cell_type": "markdown",
      "source": [
        "## Training"
      ],
      "metadata": {
        "id": "ha7bffBEuNBe"
      }
    },
    {
      "cell_type": "code",
      "source": [
        "num_epochs = 2000\n",
        "\n",
        "epoch_log = []\n",
        "test_rmse_log = []\n",
        "\n",
        "model.train()\n",
        "\n",
        "print(\"-- Started Training ---\")\n",
        "\n",
        "for epoch in range(num_epochs):\n",
        "  # Forward pass to compute loss\n",
        "  outputs = model(X_train_tensor)\n",
        "  loss = criterion(outputs, y_train_tensor)\n",
        "\n",
        "  # Backward pass and optimization\n",
        "  optimizer.zero_grad() # Clear previous gradients\n",
        "  loss.backward()       # Compute new gradients\n",
        "  optimizer.step()      # Update weights\n",
        "\n",
        "  if (epoch+1) % 100 == 0:\n",
        "    model.eval()\n",
        "\n",
        "    with torch.no_grad():\n",
        "      test_outputs = model(X_test_tensor)\n",
        "      test_loss = criterion(test_outputs, y_test_tensor)\n",
        "      test_rmse = torch.sqrt(test_loss).item()\n",
        "\n",
        "      epoch_log.append(epoch + 1)\n",
        "      test_rmse_log.append(test_rmse)\n",
        "\n",
        "    model.train()\n",
        "\n",
        "    print(f\"Epoch [{epoch+1}/{num_epochs}], Train Loss: {loss.item():.4f}, Test RMSE: ${test_rmse:.4f}\")\n",
        "\n",
        "print(\"\\n--- Training Finished ---\")\n",
        "\n",
        "# --- Plotting the Results ---\n",
        "plt.figure(figsize=(10, 6))\n",
        "plt.plot(epoch_log, test_rmse_log, marker='o')\n",
        "plt.title('Test RMSE vs. Epochs')\n",
        "plt.xlabel('Epoch')\n",
        "plt.ylabel('Root Mean Squared Error (RMSE)')\n",
        "plt.grid(True)\n",
        "plt.show()\n",
        "\n"
      ],
      "metadata": {
        "colab": {
          "base_uri": "https://localhost:8080/",
          "height": 963
        },
        "id": "PUQBTvXguKzf",
        "outputId": "6800cd2a-4753-4194-d0d4-ed6294e255e9"
      },
      "execution_count": 5,
      "outputs": [
        {
          "output_type": "stream",
          "name": "stdout",
          "text": [
            "-- Started Training ---\n",
            "Epoch [100/2000], Train Loss: 1565.4324, Test RMSE: $36.6208\n",
            "Epoch [200/2000], Train Loss: 211.5066, Test RMSE: $12.0226\n",
            "Epoch [300/2000], Train Loss: 43.8750, Test RMSE: $5.8310\n",
            "Epoch [400/2000], Train Loss: 32.8204, Test RMSE: $5.3602\n",
            "Epoch [500/2000], Train Loss: 29.6409, Test RMSE: $5.2160\n",
            "Epoch [600/2000], Train Loss: 28.1848, Test RMSE: $5.1599\n",
            "Epoch [700/2000], Train Loss: 27.1549, Test RMSE: $5.1290\n",
            "Epoch [800/2000], Train Loss: 26.3774, Test RMSE: $5.0936\n",
            "Epoch [900/2000], Train Loss: 25.7823, Test RMSE: $5.0653\n",
            "Epoch [1000/2000], Train Loss: 25.3058, Test RMSE: $5.0486\n",
            "Epoch [1100/2000], Train Loss: 24.9248, Test RMSE: $5.0380\n",
            "Epoch [1200/2000], Train Loss: 24.5980, Test RMSE: $5.0340\n",
            "Epoch [1300/2000], Train Loss: 24.3100, Test RMSE: $5.0398\n",
            "Epoch [1400/2000], Train Loss: 24.0371, Test RMSE: $5.0506\n",
            "Epoch [1500/2000], Train Loss: 23.7652, Test RMSE: $5.0610\n",
            "Epoch [1600/2000], Train Loss: 23.5035, Test RMSE: $5.0646\n",
            "Epoch [1700/2000], Train Loss: 23.2446, Test RMSE: $5.0825\n",
            "Epoch [1800/2000], Train Loss: 22.9970, Test RMSE: $5.0915\n",
            "Epoch [1900/2000], Train Loss: 22.7600, Test RMSE: $5.1079\n",
            "Epoch [2000/2000], Train Loss: 22.5393, Test RMSE: $5.1231\n",
            "\n",
            "--- Training Finished ---\n"
          ]
        },
        {
          "output_type": "display_data",
          "data": {
            "text/plain": [
              "<Figure size 1000x600 with 1 Axes>"
            ],
            "image/png": "[encoded data removed]"
          },
          "metadata": {}
        }
      ]
    },
    {
      "cell_type": "markdown",
      "source": [
        "## Evaluation"
      ],
      "metadata": {
        "id": "TnlRTAIIvGeQ"
      }
    },
    {
      "cell_type": "code",
      "source": [
        "model.eval()\n",
        "\n",
        "# Run model on test data (not tracking gradients)\n",
        "with torch.no_grad():\n",
        "  test_outputs = model(X_test_tensor)\n",
        "  test_loss = criterion(test_outputs, y_test_tensor)\n",
        "  test_rmse = torch.sqrt(test_loss)\n",
        "\n",
        "print(f\"\\nFinal Model Performance on Unseen Test Data:\")\n",
        "print(f\"Test Loss (MSE): {test_loss.item():.4f}\")\n",
        "print(f\"Test Root Mean Squared Error (RMSE): ${test_rmse:.4f}\")"
      ],
      "metadata": {
        "colab": {
          "base_uri": "https://localhost:8080/"
        },
        "id": "PzSoWGAcvGHf",
        "outputId": "06912fe2-c7af-4bc1-9f9e-b023369704cc"
      },
      "execution_count": 6,
      "outputs": [
        {
          "output_type": "stream",
          "name": "stdout",
          "text": [
            "\n",
            "Final Model Performance on Unseen Test Data:\n",
            "Test Loss (MSE): 26.2462\n",
            "Test Root Mean Squared Error (RMSE): $5.1231\n"
          ]
        }
      ]
    }
  ]
}