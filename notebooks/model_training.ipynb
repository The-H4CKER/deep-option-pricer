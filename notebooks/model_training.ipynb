{
  "nbformat": 4,
  "nbformat_minor": 0,
  "metadata": {
    "colab": {
      "provenance": [],
      "toc_visible": true,
      "authorship_tag": "ABX9TyPovY/MhOG2YAJNck+eOAnT",
      "include_colab_link": true
    },
    "kernelspec": {
      "name": "python3",
      "display_name": "Python 3"
    },
    "language_info": {
      "name": "python"
    }
  },
  "cells": [
    {
      "cell_type": "markdown",
      "metadata": {
        "id": "view-in-github",
        "colab_type": "text"
      },
      "source": [
        "<a href=\"https://colab.research.google.com/github/The-H4CKER/deep-option-pricer/blob/main/notebooks/model_training.ipynb\" target=\"_parent\"><img src=\"https://colab.research.google.com/assets/colab-badge.svg\" alt=\"Open In Colab\"/></a>"
      ]
    },
    {
      "cell_type": "markdown",
      "source": [
        "# Model Training"
      ],
      "metadata": {
        "id": "V3aBDaEic2A7"
      }
    },
    {
      "cell_type": "markdown",
      "source": [
        "## Setup"
      ],
      "metadata": {
        "id": "up_SL0Fbc-WK"
      }
    },
    {
      "cell_type": "code",
      "source": [
        "import torch\n",
        "import torch.nn as nn\n",
        "import pandas as pd\n",
        "from sqlalchemy import create_engine\n",
        "from sklearn.model_selection import train_test_split\n",
        "from sklearn.preprocessing import StandardScaler"
      ],
      "metadata": {
        "id": "UDTWVrGzW2AD"
      },
      "execution_count": 14,
      "outputs": []
    },
    {
      "cell_type": "code",
      "source": [
        "DB_PATH = \"sqlite:///data/options_data.db\"\n",
        "engine = create_engine(DB_PATH)\n",
        "\n",
        "try:\n",
        "  df = pd.read_sql_table(\"options\", engine)\n",
        "  print(\"Database loaded successfully!\")\n",
        "  print(f\"Loaded {len(df)} records.\")\n",
        "except Exception as e:\n",
        "  print(f\"Error loading database: {e}\")"
      ],
      "metadata": {
        "colab": {
          "base_uri": "https://localhost:8080/"
        },
        "id": "gWhvqBveW_HL",
        "outputId": "3117bbd5-deb7-4aef-9cbd-ee8a621ee2e1"
      },
      "execution_count": 13,
      "outputs": [
        {
          "output_type": "stream",
          "name": "stdout",
          "text": [
            "Database loaded successfully!\n",
            "Loaded 2097 records.\n"
          ]
        }
      ]
    },
    {
      "cell_type": "markdown",
      "source": [
        "## Feature Selection"
      ],
      "metadata": {
        "id": "byu3lOXYcuW6"
      }
    },
    {
      "cell_type": "code",
      "source": [
        "df[\"r\"] = 0.05  # define risk-free rate\n",
        "\n",
        "# One-hot encode the 'option_type' column ('call' -> 1, 'put' -> 0)\n",
        "df = pd.ge\n",
        "\n",
        "\n",
        "# Explicitly define model's inputs (X) and output (y)"
      ],
      "metadata": {
        "id": "ZQ_enGrRb2RW"
      },
      "execution_count": null,
      "outputs": []
    }
  ]
}