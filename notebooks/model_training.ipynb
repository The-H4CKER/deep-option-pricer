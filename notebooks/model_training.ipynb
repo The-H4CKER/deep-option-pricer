{
  "nbformat": 4,
  "nbformat_minor": 0,
  "metadata": {
    "colab": {
      "provenance": [],
      "toc_visible": true,
      "authorship_tag": "ABX9TyPQjDW9FCbw+GriCV2SIWA9",
      "include_colab_link": true
    },
    "kernelspec": {
      "name": "python3",
      "display_name": "Python 3"
    },
    "language_info": {
      "name": "python"
    }
  },
  "cells": [
    {
      "cell_type": "markdown",
      "metadata": {
        "id": "view-in-github",
        "colab_type": "text"
      },
      "source": [
        "<a href=\"https://colab.research.google.com/github/The-H4CKER/deep-option-pricer/blob/main/notebooks/model_training.ipynb\" target=\"_parent\"><img src=\"https://colab.research.google.com/assets/colab-badge.svg\" alt=\"Open In Colab\"/></a>"
      ]
    },
    {
      "cell_type": "markdown",
      "source": [
        "# Model Training"
      ],
      "metadata": {
        "id": "V3aBDaEic2A7"
      }
    },
    {
      "cell_type": "markdown",
      "source": [
        "## Setup"
      ],
      "metadata": {
        "id": "up_SL0Fbc-WK"
      }
    },
    {
      "cell_type": "code",
      "source": [
        "import torch\n",
        "import torch.nn as nn\n",
        "import pandas as pd\n",
        "from sqlalchemy import create_engine\n",
        "from sklearn.model_selection import train_test_split\n",
        "from sklearn.preprocessing import StandardScaler"
      ],
      "metadata": {
        "id": "UDTWVrGzW2AD"
      },
      "execution_count": 14,
      "outputs": []
    },
    {
      "cell_type": "code",
      "source": [
        "DB_PATH = \"sqlite:///data/options_data.db\"\n",
        "engine = create_engine(DB_PATH)\n",
        "\n",
        "try:\n",
        "  df = pd.read_sql_table(\"options\", engine)\n",
        "  print(\"Database loaded successfully!\")\n",
        "  print(f\"Loaded {len(df)} records.\")\n",
        "except Exception as e:\n",
        "  print(f\"Error loading database: {e}\")"
      ],
      "metadata": {
        "colab": {
          "base_uri": "https://localhost:8080/"
        },
        "id": "gWhvqBveW_HL",
        "outputId": "da995904-3eb1-4109-8d7b-1e44f20318e5"
      },
      "execution_count": 26,
      "outputs": [
        {
          "output_type": "stream",
          "name": "stdout",
          "text": [
            "Database loaded successfully!\n",
            "Loaded 2097 records.\n"
          ]
        }
      ]
    },
    {
      "cell_type": "markdown",
      "source": [
        "## Data Preparation"
      ],
      "metadata": {
        "id": "byu3lOXYcuW6"
      }
    },
    {
      "cell_type": "code",
      "source": [
        "df['r'] = 0.05  # define risk-free rate\n",
        "\n",
        "# One-hot encode the 'option_type' column ('call' -> 1, 'put' -> 0)\n",
        "# Replaces 'option_type' col with 'option_type_put' which is either 0.0 or 1.0\n",
        "df = pd.get_dummies(df, columns=['option_type'], drop_first=True, dtype=float)\n",
        "\n",
        "features = ['stock_price', 'strike_price', 'dte', 'r', 'implied_volatility', 'option_type_put']\n",
        "target = 'market_price'\n",
        "\n",
        "# Explicitly define model's inputs (X) and output (y)\n",
        "X = df[features].values\n",
        "y = df[target].values.reshape(-1, 1)  # vector forma\n",
        "\n",
        "# print(f\"X shape: {X.shape}\")\n",
        "# print(f\"y shape: {y.shape}\")\n",
        "\n",
        "# Perform standard 80-20 split on data\n",
        "X_train, X_test, y_train, y_test = train_test_split(X, y, test_size=0.2, random_state=42)\n",
        "\n",
        "# print(f\"X_train shape: {X_train.shape}\")\n",
        "# print(f\"X_test shape: {X_test.shape}\")\n",
        "\n",
        "# Scale input features to similar scale (mean=0, std=1)\n",
        "scaler = StandardScaler()\n",
        "\n",
        "# scaler should only fit to training data to avoid data leak\n",
        "X_train_scaled = scaler.fit_transform(X_train)\n",
        "X_test_scaled = scaler.transform(X_test)\n",
        "\n",
        "# Convert NumPy arrays into PyTorch tensors.\n",
        "X_train_tensor = torch.tensor(X_train_scaled, dtype=torch.float32)\n",
        "y_train_tensor = torch.tensor(y_train, dtype=torch.float32)\n",
        "X_test_tensor = torch.tensor(X_test_scaled, dtype=torch.float32)\n",
        "y_test_tensor = torch.tensor(y_test, dtype=torch.float32)\n"
      ],
      "metadata": {
        "colab": {
          "base_uri": "https://localhost:8080/"
        },
        "id": "ZQ_enGrRb2RW",
        "outputId": "d2ec8f8b-be04-4e5e-d049-8e551f7fc5f3"
      },
      "execution_count": 27,
      "outputs": [
        {
          "output_type": "stream",
          "name": "stdout",
          "text": [
            "X shape: (2097, 6)\n",
            "y shape: (2097, 1)\n",
            "X_train shape: (1677, 6)\n",
            "X_test shape: (420, 6)\n"
          ]
        }
      ]
    },
    {
      "cell_type": "code",
      "source": [],
      "metadata": {
        "id": "k6v9gOK3rGIj"
      },
      "execution_count": null,
      "outputs": []
    }
  ]
}